{
 "cells": [
  {
   "cell_type": "markdown",
   "metadata": {},
   "source": [
    "# SQL Queries"
   ]
  },
  {
   "cell_type": "markdown",
   "metadata": {},
   "source": [
    "## 초기 설정"
   ]
  },
  {
   "cell_type": "markdown",
   "metadata": {},
   "source": [
    "### 0-1. 테이블 생성"
   ]
  },
  {
   "cell_type": "code",
   "execution_count": null,
   "metadata": {
    "vscode": {
     "languageId": "sql"
    }
   },
   "outputs": [],
   "source": [
    "-- 1. 길드 테이블 (다른 테이블의 참조를 받으므로 먼저 생성)\n",
    "CREATE TABLE 길드 (\n",
    "    길드_ID VARCHAR2(50) PRIMARY KEY,\n",
    "    길드_이름 VARCHAR2(100),\n",
    "    국가번호 VARCHAR2(10),\n",
    "    길드_가입_요구_진행도 NUMBER,\n",
    "    길드원 NUMBER,\n",
    "    길드_점수 NUMBER\n",
    ");\n",
    "\n",
    "-- 2. 유저 테이블 (길드를 참조)\n",
    "CREATE TABLE 유저 (\n",
    "    USERID VARCHAR2(50) PRIMARY KEY,\n",
    "    비밀번호 VARCHAR2(50),\n",
    "    닉네임 VARCHAR2(100),\n",
    "    스테이지_진행도 NUMBER,\n",
    "    마지막_접속시간 TIMESTAMP,\n",
    "    코인 NUMBER,\n",
    "    국가번호 VARCHAR2(10),\n",
    "    길드_ID VARCHAR2(50),\n",
    "    길드_직급 VARCHAR2(20),\n",
    "    FOREIGN KEY (길드_ID) REFERENCES 길드(길드_ID)\n",
    ");\n",
    "\n",
    "-- 3. 친구요청 테이블 (유저를 참조)\n",
    "CREATE TABLE 친구요청 (\n",
    "    요청_ID VARCHAR2(50) PRIMARY KEY,\n",
    "    요청한_유저_USERID VARCHAR2(50),\n",
    "    요청받은_유저_USERID VARCHAR2(50),\n",
    "    수락여부 CHAR(1),\n",
    "    FOREIGN KEY (요청한_유저_USERID) REFERENCES 유저(USERID),\n",
    "    FOREIGN KEY (요청받은_유저_USERID) REFERENCES 유저(USERID)\n",
    ");\n",
    "\n",
    "-- 4. 친구 테이블 (유저를 참조)\n",
    "CREATE TABLE 친구 (\n",
    "    친구_ID VARCHAR2(50) PRIMARY KEY,\n",
    "    요청한_유저_USERID VARCHAR2(50),\n",
    "    요청받은_유저_USERID VARCHAR2(50),\n",
    "    FOREIGN KEY (요청한_유저_USERID) REFERENCES 유저(USERID),\n",
    "    FOREIGN KEY (요청받은_유저_USERID) REFERENCES 유저(USERID)\n",
    ");\n",
    "\n",
    "-- 5. 스테이지 테이블 (독립적인 테이블)\n",
    "CREATE TABLE 스테이지 (\n",
    "    스테이지_ID VARCHAR2(50) PRIMARY KEY,\n",
    "    스테이지_번호 NUMBER,\n",
    "    허용_이동_횟수 NUMBER,\n",
    "    스테이지_난이도 NUMBER\n",
    ");\n",
    "\n",
    "-- 6. 아이템 테이블 (독립적인 테이블)\n",
    "CREATE TABLE 아이템 (\n",
    "    아이템_ID VARCHAR2(50) PRIMARY KEY,\n",
    "    아이템_이름 VARCHAR2(100),\n",
    "    아이템_설명 VARCHAR2(500),\n",
    "    가격 NUMBER\n",
    ");\n",
    "\n",
    "-- 7. 플레이 테이블 (유저와 스테이지를 참조)\n",
    "CREATE TABLE 플레이 (\n",
    "    획득별_수 NUMBER,\n",
    "    클리어_여부 CHAR(1),\n",
    "    USERID VARCHAR2(50),\n",
    "    스테이지_ID VARCHAR2(50),\n",
    "    PRIMARY KEY (USERID, 스테이지_ID),\n",
    "    FOREIGN KEY (USERID) REFERENCES 유저(USERID),\n",
    "    FOREIGN KEY (스테이지_ID) REFERENCES 스테이지(스테이지_ID)\n",
    ");\n",
    "\n",
    "-- 8. 소유 테이블 (유저와 아이템을 참조)\n",
    "CREATE TABLE 소유 (\n",
    "    USERID VARCHAR2(50),\n",
    "    아이템_ID VARCHAR2(50),\n",
    "    갯수 NUMBER,\n",
    "    PRIMARY KEY (USERID, 아이템_ID),\n",
    "    FOREIGN KEY (USERID) REFERENCES 유저(USERID),\n",
    "    FOREIGN KEY (아이템_ID) REFERENCES 아이템(아이템_ID)\n",
    ");"
   ]
  },
  {
   "cell_type": "markdown",
   "metadata": {},
   "source": [
    "### 0-2. 가상 데이터 추가"
   ]
  },
  {
   "cell_type": "code",
   "execution_count": null,
   "metadata": {
    "vscode": {
     "languageId": "sql"
    }
   },
   "outputs": [],
   "source": [
    "-- 길드 데이터 삽입\n",
    "INSERT INTO 길드 VALUES ('G001', '한양대 길드', 'KR', 50, 2, 6);\n",
    "INSERT INTO 길드 VALUES ('G002', '고수들의 모임 길드', 'US', 30, 1, 3);\n",
    "INSERT INTO 길드 VALUES ('G003', '모두모여라길드', 'KR', 45, 2, 2);\n",
    "INSERT INTO 길드 VALUES ('G004', '사이좋은길드', 'JP', 40, 1, 0);\n",
    "INSERT INTO 길드 VALUES ('G005', '1위를노리자길드', 'KR', 60, 1, 0);\n",
    "\n",
    "-- 유저 데이터 삽입\n",
    "INSERT INTO 유저 VALUES ('U001', 'WIND001', '블록왕자', 75, TIMESTAMP '2024-12-03 14:30:00', 5000, 'KR', 'G001', '길드장');\n",
    "INSERT INTO 유저 VALUES ('U002', 'WIND002', '매치마스터', 45, TIMESTAMP '2024-12-03 15:20:00', 3000, 'KR', 'G001', '길드원');\n",
    "INSERT INTO 유저 VALUES ('U003', 'WIND003', '왕초보', 60, TIMESTAMP '2024-12-03 12:10:00', 4000, 'US', 'G002', '길드장');\n",
    "INSERT INTO 유저 VALUES ('U004', 'WIND004', '닉네임뭐하지', 55, TIMESTAMP '2024-11-01 16:45:00', 3500, 'KR', 'G003', '길드장');\n",
    "INSERT INTO 유저 VALUES ('U005', 'WIND005', '한양이', 65, TIMESTAMP '2024-12-03 13:15:00', 4500, 'JP', 'G003', '길드원');\n",
    "INSERT INTO 유저 VALUES ('U006', 'WIND006', '겜잘알', 55, TIMESTAMP '2024-12-01 14:00:00', 4500, 'KR', 'G004', '길드장');\n",
    "INSERT INTO 유저 VALUES ('U007', 'WIND007', '사랑의실천', 50, TIMESTAMP '2024-12-02 14:00:00', 5500, 'KR', 'G005', '길드장');\n",
    "\n",
    "\n",
    "-- 스테이지 데이터 삽입 (난이도를 0:easy, 1:hard로 수정)\n",
    "INSERT INTO 스테이지 VALUES ('S001', 1, 15, 0);\n",
    "INSERT INTO 스테이지 VALUES ('S002', 2, 12, 0);\n",
    "INSERT INTO 스테이지 VALUES ('S003', 3, 10, 1);\n",
    "INSERT INTO 스테이지 VALUES ('S004', 4, 8, 1);\n",
    "INSERT INTO 스테이지 VALUES ('S005', 5, 6, 1);\n",
    "\n",
    "-- 아이템 데이터 삽입 (수정)\n",
    "INSERT INTO 아이템 VALUES ('I001', '망치', '특정 퍼즐 요소를 삭제할 수 있는 아이템입니다', 1000);\n",
    "INSERT INTO 아이템 VALUES ('I002', '로켓', '한 줄의 요소들을 지울 수 있는 아이템입니다', 2000);\n",
    "INSERT INTO 아이템 VALUES ('I003', '폭탄', '3*3 범위의 요소들을 지울 수 있는 아이템입니다', 3000);\n",
    "\n",
    "-- 플레이 데이터 삽입\n",
    "INSERT INTO 플레이 VALUES (3, 'Y', 'U001', 'S001');\n",
    "INSERT INTO 플레이 VALUES (2, 'Y', 'U001', 'S002');\n",
    "INSERT INTO 플레이 VALUES (1, 'Y', 'U002', 'S001');\n",
    "INSERT INTO 플레이 VALUES (3, 'Y', 'U003', 'S001');\n",
    "INSERT INTO 플레이 VALUES (2, 'Y', 'U004', 'S002');\n",
    "\n",
    "-- 소유 데이터 삽입 (수정: 게임 아이템 분배)\n",
    "INSERT INTO 소유 VALUES ('U001', 'I001', 3);\n",
    "INSERT INTO 소유 VALUES ('U001', 'I002', 1);\n",
    "INSERT INTO 소유 VALUES ('U002', 'I003', 2);\n",
    "INSERT INTO 소유 VALUES ('U003', 'I001', 2);\n",
    "INSERT INTO 소유 VALUES ('U004', 'I002', 2);\n",
    "\n",
    "-- 친구 데이터 삽입\n",
    "INSERT INTO 친구 VALUES ('F001', 'U001', 'U002');\n",
    "INSERT INTO 친구 VALUES ('F002', 'U002', 'U003');\n",
    "INSERT INTO 친구 VALUES ('F003', 'U003', 'U004');\n",
    "INSERT INTO 친구 VALUES ('F004', 'U004', 'U005');\n",
    "INSERT INTO 친구 VALUES ('F005', 'U001', 'U003');\n",
    "\n",
    "-- 친구요청 데이터 삽입\n",
    "INSERT INTO 친구요청 VALUES ('R001', 'U001', 'U004', 'N');\n",
    "INSERT INTO 친구요청 VALUES ('R002', 'U002', 'U005', 'Y');\n",
    "INSERT INTO 친구요청 VALUES ('R003', 'U003', 'U001', 'N');\n",
    "INSERT INTO 친구요청 VALUES ('R004', 'U004', 'U002', 'Y');\n",
    "INSERT INTO 친구요청 VALUES ('R005', 'U005', 'U003', 'N');"
   ]
  },
  {
   "cell_type": "markdown",
   "metadata": {},
   "source": [
    "## Query"
   ]
  },
  {
   "cell_type": "markdown",
   "metadata": {},
   "source": [
    "### 신규 유저 가입\n",
    "\n",
    "처음 플레이하는 사람은 닉네임과 비밀번호, 국가를 설정하여 신규 유저로 가입할 수 있다."
   ]
  },
  {
   "cell_type": "code",
   "execution_count": null,
   "metadata": {
    "vscode": {
     "languageId": "sql"
    }
   },
   "outputs": [],
   "source": [
    "-- 가입 전 유저 테이블\n",
    "SELECT * FROM 유저;\n",
    "\n",
    "INSERT INTO 유저\n",
    "VALUES ('U008', 'WIND008', '정데전', NULL, TIMESTAMP '2024-12-06 12:10:00', 2000, 'KR', NULL, NULL);\n",
    "\n",
    "-- 가입 후 유저 테이블\n",
    "SELECT * FROM 유저;"
   ]
  },
  {
   "cell_type": "markdown",
   "metadata": {},
   "source": [
    "### 코인으로 아이템 구매\n",
    "\n",
    "유저는 코인을 소진하여 아이템을 구매할 수 있으며, 아이템을 구매하면 보유 코인 수와 소유 아이템이 갱신된다. "
   ]
  },
  {
   "cell_type": "code",
   "execution_count": null,
   "metadata": {
    "vscode": {
     "languageId": "sql"
    }
   },
   "outputs": [],
   "source": [
    "-- 구매 전 조회\n",
    "SELECT * FROM 소유\n",
    "WHERE USERID = 'U001' AND 아이템_ID = 'I002';\n",
    "SELECT * FROM 유저\n",
    "WHERE USERID = 'U001';\n",
    "\n",
    "-- 유저의 코인을 차감\n",
    "UPDATE 유저\n",
    "SET 코인 = 코인 - 2000\n",
    "WHERE USERID = 'U001'; \n",
    "\n",
    "-- 유저의 아이템 갯수를 증가 (I002 - 로켓 구매)\n",
    "UPDATE 소유\n",
    "SET 갯수 = 갯수 + 1\n",
    "WHERE USERID = 'U001' AND 아이템_ID = 'I002';\n",
    "\n",
    "-- 구매 확인을 위한 조회\n",
    "SELECT * FROM 소유\n",
    "WHERE USERID = 'U001' AND 아이템_ID = 'I002';\n",
    "SELECT * FROM 유저\n",
    "WHERE USERID = 'U001';"
   ]
  },
  {
   "cell_type": "markdown",
   "metadata": {},
   "source": [
    "### 스테이지 플레이\n",
    "스테이지 플레이를 마치면, 해당 스테이지의 클리어 여부, 소진한 이동 횟수, 획득 별 수가 플레이 기록으로 저장된다. 더불어, 이에 따라 길드 점수가 갱신된다."
   ]
  },
  {
   "cell_type": "code",
   "execution_count": null,
   "metadata": {
    "vscode": {
     "languageId": "sql"
    }
   },
   "outputs": [],
   "source": [
    "-- 플레이 전 조회\n",
    "SELECT * FROM 플레이;\n",
    "SELECT * FROM 길드;\n",
    "\n",
    "-- 플레이 데이터 삽입\n",
    "INSERT INTO 플레이 (USERID, 스테이지_ID, 획득별_수, 클리어_여부)\n",
    "VALUES ('U007', 'S003', 3, 'Y');\n",
    "\n",
    "-- 길드 점수 갱신\n",
    "UPDATE 길드 g\n",
    "SET 길드_점수 = (\n",
    "    SELECT COALESCE(SUM(p.획득별_수), 0)\n",
    "    FROM 유저 u\n",
    "    LEFT JOIN 플레이 p ON u.USERID = p.USERID\n",
    "    WHERE u.길드_ID = g.길드_ID\n",
    ");\n",
    "\n",
    "-- 플레이 후 조회\n",
    "SELECT * FROM 플레이;\n",
    "SELECT * FROM 길드;"
   ]
  },
  {
   "cell_type": "markdown",
   "metadata": {},
   "source": [
    "### 활성 친구 조회 \n",
    "유저의 친구들 중 최근 30일 이내 접속했던 친구를 스테이지 진행도 순으로 닉네임, 스테이지 진행도, 소속 길드명, 마지막 접속시간을 조회할 수 있다.\n",
    "\n",
    "특정 유저의 친구들 중 최근 30일 이내 접속했던 플레이어들을 스테이지 진행도를 기준으로 내림차순으로 정렬하고, 친구들의 닉네임, 스테이지진행도, 소속 길드명, 마지막 접속시간을 조회\n",
    "\n",
    "예시에서는 1번 유저 (U001)을 사용"
   ]
  },
  {
   "cell_type": "code",
   "execution_count": null,
   "metadata": {
    "vscode": {
     "languageId": "sql"
    }
   },
   "outputs": [],
   "source": [
    "SELECT \n",
    "    u.닉네임 AS 친구닉네임,\n",
    "    u.스테이지_진행도,\n",
    "    g.길드_이름 AS 소속된길드,\n",
    "    u.마지막_접속시간\n",
    "FROM \n",
    "    친구 f\n",
    "JOIN \n",
    "    유저 u ON (f.요청한_유저_USERID = u.USERID OR f.요청받은_유저_USERID = u.USERID)\n",
    "LEFT JOIN\n",
    "    길드 g ON u.길드_ID = g.길드_ID\n",
    "WHERE \n",
    "    'U001' IN (f.요청한_유저_USERID, f.요청받은_유저_USERID)\n",
    "    AND u.USERID != 'U001'                                \n",
    "    AND u.마지막_접속시간 >= SYSDATE - NUMTODSINTERVAL(30, 'DAY')              \n",
    "ORDER BY \n",
    "    u.스테이지_진행도 DESC;"
   ]
  },
  {
   "cell_type": "markdown",
   "metadata": {},
   "source": [
    "### 길드 추천\n",
    "유저에게 적합한 길드를 추천하는 쿼리를 작성하세요. 조건은 다음과 같습니다:\n",
    "- 유저와 같은 국가의 길드만 추천\n",
    "- 유저의 스테이지 진행도가 길드 가입 연구 진행도보다 높아야 함\n",
    "- 길드 회원수가 정원(100명)을 초과하지 않아야 함\n",
    "- 길드 점수가 높은 순으로 정렬"
   ]
  },
  {
   "cell_type": "code",
   "execution_count": null,
   "metadata": {
    "vscode": {
     "languageId": "sql"
    }
   },
   "outputs": [],
   "source": [
    "WITH user_info AS (\n",
    "    SELECT 국가번호, 스테이지_진행도\n",
    "    FROM 유저\n",
    "    WHERE USERID = 'U001'\n",
    ")\n",
    "SELECT g.길드_ID, g.길드_이름, g.국가번호 AS 길드_국가, u.국가번호 AS 유저_국가, g.길드_가입_요구_진행도, u.스테이지_진행도 AS 유저_스테이지진행도, g.길드_점수\n",
    "FROM 길드 g, user_info u\n",
    "WHERE g.국가번호 = u.국가번호\n",
    "AND g.길드_가입_요구_진행도 <= u.스테이지_진행도\n",
    "AND g.길드원 < 100\n",
    "ORDER BY g.길드_점수 DESC;"
   ]
  },
  {
   "cell_type": "markdown",
   "metadata": {},
   "source": [
    "### 길드 정보 조회\n",
    "길드원은 길드원 목록을 조회하고,\n",
    "\n",
    "길드명, 총 길드원 수, 길드 점수를 확인할 수 있다."
   ]
  },
  {
   "cell_type": "code",
   "execution_count": null,
   "metadata": {
    "vscode": {
     "languageId": "sql"
    }
   },
   "outputs": [],
   "source": [
    "-- 길드원 목록 조회\n",
    "SELECT \n",
    "    U.USERID, U.닉네임 AS \"길드원 목록\"\n",
    "FROM \n",
    "    유저 U\n",
    "WHERE \n",
    "    U.길드_ID = (SELECT 길드_ID FROM 유저 WHERE USERID = 'U001');\n",
    "\n",
    "-- 길드명, 총 길드원 수, 길드 점수를 조회 (예: U001이 속한 길드)\n",
    "SELECT \n",
    "    G.길드_이름 AS 길드명,\n",
    "    COUNT(DISTINCT U.USERID) AS 총_길드원_수,\n",
    "    SUM(P.획득별_수) AS 길드_점수\n",
    "FROM \n",
    "    길드 G \n",
    "LEFT JOIN \n",
    "    유저 U ON G.길드_ID = U.길드_ID \n",
    "LEFT JOIN \n",
    "    플레이 P ON U.USERID = P.USERID\n",
    "WHERE \n",
    "    G.길드_ID = (SELECT 길드_ID FROM 유저 WHERE USERID = 'U001')\n",
    "GROUP BY \n",
    "    G.길드_ID, G.길드_이름;"
   ]
  },
  {
   "cell_type": "markdown",
   "metadata": {},
   "source": [
    "### 길드 랭킹 조회\n",
    "길드 점수에 따른 길드 랭킹을 조회할 수 있다. "
   ]
  },
  {
   "cell_type": "code",
   "execution_count": null,
   "metadata": {
    "vscode": {
     "languageId": "sql"
    }
   },
   "outputs": [],
   "source": [
    "SELECT\n",
    "  g.길드_이름 AS 길드_이름,\n",
    "  COALESCE(SUM(p.획득별_수), 0) AS 길드점수\n",
    "FROM\n",
    "  길드 g\n",
    "LEFT JOIN\n",
    "  유저 u ON g.길드_ID = u.길드_ID\n",
    "LEFT JOIN\n",
    "  플레이 p ON u.USERID = p.USERID\n",
    "GROUP BY\n",
    "  g.길드_ID, g.길드_이름\n",
    "ORDER BY\n",
    "  길드점수 DESC;"
   ]
  },
  {
   "cell_type": "markdown",
   "metadata": {},
   "source": [
    "### 비활성 유저 길드 자동 탈퇴\n",
    "30일 이상 접속하지 않은 유저는 길드에서 탈퇴되고, 이에 따라 길드 점수와 길드 회원 수를 갱신한다.\n",
    "\n",
    "다음 조건에 해당하는 비활성 유저의 길드 멤버십을 해제하고, 이에 따라 길드 점수와 길드 회원 수를 갱신하세요"
   ]
  },
  {
   "cell_type": "code",
   "execution_count": null,
   "metadata": {
    "vscode": {
     "languageId": "sql"
    }
   },
   "outputs": [],
   "source": [
    "-- UPDATE 전 길드 정보\n",
    "SELECT 길드_ID, 길드_이름, 길드원, 길드_점수\n",
    "FROM 길드;\n",
    "\n",
    "-- 비활성화 유저 정보 출력\n",
    "SELECT * FROM 유저\n",
    "WHERE 마지막_접속시간 < SYSDATE - 30\n",
    "  AND 길드_ID IS NOT NULL;\n",
    "\n",
    "-- 길드 멤버십 해제\n",
    "UPDATE 유저\n",
    "SET 길드_ID = NULL\n",
    "WHERE 마지막_접속시간 < SYSDATE - 30 \n",
    "  AND 길드_ID IS NOT NULL;\n",
    "\n",
    "-- 길드 회원수 갱신\n",
    "UPDATE 길드 g\n",
    "SET 길드원 = (\n",
    "    SELECT COUNT(*)\n",
    "    FROM 유저 u\n",
    "    WHERE u.길드_ID = g.길드_ID\n",
    ");\n",
    "\n",
    "-- 길드 점수 갱신\n",
    "UPDATE 길드 g\n",
    "SET 길드_점수 = (\n",
    "    SELECT COALESCE(SUM(p.획득별_수), 0)\n",
    "    FROM 유저 u\n",
    "    LEFT JOIN 플레이 p ON u.USERID = p.USERID\n",
    "    WHERE u.길드_ID = g.길드_ID\n",
    ");\n",
    "\n",
    "-- UPDATE 후 길드 정보\n",
    "SELECT 길드_ID, 길드_이름, 길드원, 길드_점수\n",
    "FROM 길드;"
   ]
  },
  {
   "cell_type": "markdown",
   "metadata": {},
   "source": [
    "### 길드 가입 조건 수정\n",
    "길드장은 길드의 가입 조건(최소 스테이지 진행도)을 수정할 수 있다."
   ]
  },
  {
   "cell_type": "code",
   "execution_count": null,
   "metadata": {
    "vscode": {
     "languageId": "sql"
    }
   },
   "outputs": [],
   "source": [
    "-- 변경 전 길드 정보 조회\n",
    "SELECT * FROM 길드\n",
    "WHERE 길드_ID = 'G001';\n",
    "\n",
    "UPDATE 길드\n",
    "SET 길드_가입_요구_진행도 = 45\n",
    "WHERE 길드_ID = 'G001';\n",
    "\n",
    "-- 변경 후 길드 정보 조회\n",
    "SELECT * FROM 길드\n",
    "WHERE 길드_ID = 'G001';"
   ]
  }
 ],
 "metadata": {
  "language_info": {
   "name": "python"
  }
 },
 "nbformat": 4,
 "nbformat_minor": 2
}
